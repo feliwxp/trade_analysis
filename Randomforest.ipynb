{
 "cells": [
  {
   "cell_type": "code",
   "execution_count": 1,
   "metadata": {},
   "outputs": [],
   "source": [
    "import pandas as pd \n",
    "import numpy as np"
   ]
  },
  {
   "cell_type": "code",
   "execution_count": 2,
   "metadata": {},
   "outputs": [],
   "source": [
    "df = pd.read_csv('data/trades.csv', index_col=0)"
   ]
  },
  {
   "cell_type": "code",
   "execution_count": 3,
   "metadata": {},
   "outputs": [
    {
     "data": {
      "text/plain": [
       "(2092, 29)"
      ]
     },
     "execution_count": 3,
     "metadata": {},
     "output_type": "execute_result"
    }
   ],
   "source": [
    "df.shape"
   ]
  },
  {
   "cell_type": "code",
   "execution_count": 4,
   "metadata": {},
   "outputs": [
    {
     "data": {
      "text/plain": [
       "Index(['Close', 'IV', 'RV', 'IV-RV', 'Week', 'Month', 'Quarter', 'target',\n",
       "       'Yest_profits', 'Close_diff', 'Close_ema', 'Close_std',\n",
       "       'Close_diff_ema', 'IV_diff', 'IV_ema', 'IV_std', 'IV_diff_ema',\n",
       "       'RV_diff', 'RV_ema', 'RV_std', 'RV_diff_ema', 'IV-RV_diff', 'IV-RV_ema',\n",
       "       'IV-RV_std', 'IV-RV_diff_ema', 'Yest_profits_diff', 'Yest_profits_ema',\n",
       "       'Yest_profits_std', 'Yest_profits_diff_ema'],\n",
       "      dtype='object')"
      ]
     },
     "execution_count": 4,
     "metadata": {},
     "output_type": "execute_result"
    }
   ],
   "source": [
    "df.columns"
   ]
  },
  {
   "cell_type": "code",
   "execution_count": 5,
   "metadata": {},
   "outputs": [],
   "source": [
    "# Splitting \n",
    "\n",
    "train = df.iloc[:1800].to_csv(\"data/train.csv\", index=False)\n",
    "test = df.iloc[1800:].to_csv(\"data/test.csv\", index=False)\n"
   ]
  },
  {
   "cell_type": "code",
   "execution_count": 6,
   "metadata": {},
   "outputs": [],
   "source": [
    "%reload_ext autoreload\n",
    "from src.datapipeline import Datapipeline\n",
    "pl = Datapipeline()\n",
    "X_train, y_train = pl.transform_train_data('data/train.csv')\n",
    "X_test, y_test = pl.transform_test_data('data/test.csv')"
   ]
  },
  {
   "cell_type": "code",
   "execution_count": 7,
   "metadata": {},
   "outputs": [
    {
     "data": {
      "text/plain": [
       "array(['IV', 'RV', 'IV-RV'], dtype='<U32')"
      ]
     },
     "execution_count": 7,
     "metadata": {},
     "output_type": "execute_result"
    }
   ],
   "source": [
    "labels = pl.get_labels()\n",
    "labels"
   ]
  },
  {
   "cell_type": "code",
   "execution_count": 11,
   "metadata": {},
   "outputs": [
    {
     "name": "stderr",
     "output_type": "stream",
     "text": [
      "/Users/felicia/miniconda3/envs/fs/lib/python3.10/site-packages/sklearn/model_selection/_validation.py:378: FitFailedWarning: \n",
      "50 fits failed out of a total of 700.\n",
      "The score on these train-test partitions for these parameters will be set to nan.\n",
      "If these failures are not expected, you can try to debug them by setting error_score='raise'.\n",
      "\n",
      "Below are more details about the failures:\n",
      "--------------------------------------------------------------------------------\n",
      "50 fits failed with the following error:\n",
      "Traceback (most recent call last):\n",
      "  File \"/Users/felicia/miniconda3/envs/fs/lib/python3.10/site-packages/sklearn/model_selection/_validation.py\", line 686, in _fit_and_score\n",
      "    estimator.fit(X_train, y_train, **fit_params)\n",
      "  File \"/Users/felicia/miniconda3/envs/fs/lib/python3.10/site-packages/sklearn/ensemble/_forest.py\", line 340, in fit\n",
      "    self._validate_params()\n",
      "  File \"/Users/felicia/miniconda3/envs/fs/lib/python3.10/site-packages/sklearn/base.py\", line 600, in _validate_params\n",
      "    validate_parameter_constraints(\n",
      "  File \"/Users/felicia/miniconda3/envs/fs/lib/python3.10/site-packages/sklearn/utils/_param_validation.py\", line 97, in validate_parameter_constraints\n",
      "    raise InvalidParameterError(\n",
      "sklearn.utils._param_validation.InvalidParameterError: The 'max_features' parameter of RandomForestClassifier must be an int in the range [1, inf), a float in the range (0.0, 1.0], a str among {'auto' (deprecated), 'sqrt', 'log2'} or None. Got 0 instead.\n",
      "\n",
      "  warnings.warn(some_fits_failed_message, FitFailedWarning)\n",
      "/Users/felicia/miniconda3/envs/fs/lib/python3.10/site-packages/sklearn/model_selection/_search.py:952: UserWarning: One or more of the test scores are non-finite: [       nan 0.27222222 0.27833333 0.28222222 0.27777778 0.27944444\n",
      " 0.275      0.27333333 0.27833333 0.28       0.28222222 0.275\n",
      " 0.27555556 0.28388889        nan 0.27555556 0.27833333 0.28055556\n",
      " 0.28111111 0.27888889 0.26777778 0.28055556 0.27777778 0.27111111\n",
      " 0.27888889 0.27611111 0.28222222 0.27777778        nan 0.27666667\n",
      " 0.27888889 0.28055556 0.28444444 0.27       0.27833333 0.28166667\n",
      " 0.27944444 0.28       0.27777778 0.27833333 0.27166667 0.27222222\n",
      "        nan 0.275      0.28055556 0.28166667 0.26833333 0.27611111\n",
      " 0.28166667 0.27777778 0.27111111 0.27444444 0.28111111 0.28111111\n",
      " 0.28       0.27666667        nan 0.26555556 0.27611111 0.275\n",
      " 0.27888889 0.27166667 0.27722222 0.28833333 0.27888889 0.27722222\n",
      " 0.27833333 0.275      0.27555556 0.27333333]\n",
      "  warnings.warn(\n"
     ]
    },
    {
     "data": {
      "text/plain": [
       "{'max_depth': 14, 'max_features': 7}"
      ]
     },
     "execution_count": 11,
     "metadata": {},
     "output_type": "execute_result"
    }
   ],
   "source": [
    "from sklearn.ensemble import RandomForestClassifier\n",
    "from sklearn.model_selection import GridSearchCV\n",
    "from sklearn import metrics\n",
    "\n",
    "params = {\"max_depth\": 1, \"max_features\": \"auto\", \"splitter\": \"best\"}\n",
    "\n",
    "model = RandomForestClassifier()\n",
    "params = [{\"max_depth\": list(range(10, 15)), \"max_features\": list(range(0, 14))}]\n",
    "model_grid = GridSearchCV(model, params, cv=10, scoring=\"accuracy\")\n",
    "model_grid.fit(X_train, y_train)\n",
    "model_grid.best_params_\n",
    "# y_pred = model.predict(X_test)\n",
    "# y_pred_prob=model.predict_proba(X_test)[:,1]"
   ]
  },
  {
   "cell_type": "code",
   "execution_count": 15,
   "metadata": {},
   "outputs": [],
   "source": [
    "model = RandomForestClassifier(max_depth=14, max_features= 7)\n",
    "model.fit(X_train, y_train)\n",
    "y_pred = model.predict(X_test)"
   ]
  },
  {
   "cell_type": "code",
   "execution_count": 16,
   "metadata": {},
   "outputs": [
    {
     "name": "stdout",
     "output_type": "stream",
     "text": [
      "0.5671641791044776\n",
      "0.24836601307189543\n",
      "0.34545454545454546\n",
      "0.5068493150684932\n",
      "              precision    recall  f1-score   support\n",
      "\n",
      "           0       0.49      0.79      0.60       139\n",
      "           1       0.57      0.25      0.35       153\n",
      "\n",
      "    accuracy                           0.51       292\n",
      "   macro avg       0.53      0.52      0.47       292\n",
      "weighted avg       0.53      0.51      0.47       292\n",
      "\n"
     ]
    },
    {
     "data": {
      "image/png": "[encoded data removed]",
      "text/plain": [
       "<Figure size 640x480 with 2 Axes>"
      ]
     },
     "metadata": {},
     "output_type": "display_data"
    }
   ],
   "source": [
    "from sklearn.metrics import (\n",
    "    precision_score,\n",
    "    recall_score,\n",
    "    f1_score,\n",
    "    accuracy_score,\n",
    "    confusion_matrix,\n",
    "    classification_report,\n",
    "    ConfusionMatrixDisplay,\n",
    "    precision_recall_curve,\n",
    "    PrecisionRecallDisplay,\n",
    ")\n",
    "\n",
    "# Plot confusion matrix\n",
    "cm = confusion_matrix(y_test, y_pred)\n",
    "cmd = ConfusionMatrixDisplay(cm)\n",
    "cmd.plot()\n",
    "\n",
    "# Precision/Recall using sklearn functions\n",
    "print(precision_score(y_test, y_pred))\n",
    "print(recall_score(y_test, y_pred))\n",
    "print(f1_score(y_test, y_pred))\n",
    "print(accuracy_score(y_test, y_pred))\n",
    "print(classification_report(y_test, y_pred))"
   ]
  }
 ],
 "metadata": {
  "kernelspec": {
   "display_name": "trade",
   "language": "python",
   "name": "python3"
  },
  "language_info": {
   "codemirror_mode": {
    "name": "ipython",
    "version": 3
   },
   "file_extension": ".py",
   "mimetype": "text/x-python",
   "name": "python",
   "nbconvert_exporter": "python",
   "pygments_lexer": "ipython3",
   "version": "3.10.6"
  },
  "orig_nbformat": 4,
  "vscode": {
   "interpreter": {
    "hash": "a81b2413993bb7bed676eb5bfa64ce39c3e1a4d48805a199cf0cb0a7ab293211"
   }
  }
 },
 "nbformat": 4,
 "nbformat_minor": 2
}
